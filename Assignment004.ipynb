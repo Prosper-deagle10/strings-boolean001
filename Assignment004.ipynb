{
 "cells": [
  {
   "cell_type": "code",
   "execution_count": 1,
   "id": "4c1845e1",
   "metadata": {
    "scrolled": true
   },
   "outputs": [
    {
     "name": "stdout",
     "output_type": "stream",
     "text": [
      "Enter your name: Precious\n",
      "Enter your salary: 10000\n",
      "Precious your bonus is 1000.0\n",
      " Your basic salary is 10000.0\n",
      " you are receiving new salary 11000.0\n"
     ]
    }
   ],
   "source": [
    "# Assigmnet 1: Write a program that prints the salary increment of a worker if he/her name starts with any other alphabets besides P and G\n",
    "name = input(\"Enter your name: \")\n",
    "salary = float(input(\"Enter your salary: \"))\n",
    "if name.startswith(\"G\" or \"P\"):\n",
    "    print(f\"{name} you don't have any bonus, hence you are to receive {salary}\")\n",
    "else:\n",
    "    bonus=salary*0.1\n",
    "    new_salary=salary+bonus\n",
    "    print(f\"{name} your bonus is {bonus}\")\n",
    "    print(f\" Your basic salary is {salary}\")\n",
    "    print(f\" you are receiving new salary {new_salary}\")"
   ]
  },
  {
   "cell_type": "code",
   "execution_count": 2,
   "id": "5227e415",
   "metadata": {},
   "outputs": [
    {
     "name": "stdout",
     "output_type": "stream",
     "text": [
      "Enter your name: Kate\n",
      "Enter your salary: 12000\n",
      "Kate your bonus is 1200.0\n",
      " Your basic salary is 12000.0\n",
      " you are receiving new salary 13200.0\n"
     ]
    }
   ],
   "source": [
    "# Assigmnet 1: Write a program that prints the salary increment of a worker if he/her name starts with any other alphabets besides P and G\n",
    "name = input(\"Enter your name: \")\n",
    "salary = float(input(\"Enter your salary: \"))\n",
    "if name.lower().startswith(\"G\" or \"P\"):\n",
    "    print(f\"{name} you don't have any bonus, hence you are to receive {salary}\")\n",
    "else:\n",
    "    bonus=salary*0.1\n",
    "    new_salary=salary+bonus\n",
    "    print(f\"{name} your bonus is {bonus}\")\n",
    "    print(f\" Your basic salary is {salary}\")\n",
    "    print(f\" you are receiving new salary {new_salary}\")"
   ]
  },
  {
   "cell_type": "code",
   "execution_count": 3,
   "id": "bf18f1de",
   "metadata": {},
   "outputs": [
    {
     "name": "stdout",
     "output_type": "stream",
     "text": [
      "Enter your name: prosper\n",
      "Enter your salary: 10000\n",
      "prosper you don't have any bonus, hence you are to receive 10000.0\n"
     ]
    }
   ],
   "source": [
    "# Assigmnet 1: Write a program that prints the salary increment of a worker if he/her name starts with any other alphabets besides P and G\n",
    "name = input(\"Enter your name: \")\n",
    "salary = float(input(\"Enter your salary: \"))\n",
    "if name.startswith(\"p\"):\n",
    "    print(f\"{name} you don't have any bonus, hence you are to receive {salary}\")\n",
    "else:\n",
    "    bonus=salary*0.1\n",
    "    new_salary=salary+bonus\n",
    "    print(f\"{name} your bonus is {bonus}\")\n",
    "    print(f\" Your basic salary is {salary}\")\n",
    "    print(f\" you are receiving new salary {new_salary}\")"
   ]
  },
  {
   "cell_type": "code",
   "execution_count": 4,
   "id": "9c42b274",
   "metadata": {
    "scrolled": true
   },
   "outputs": [
    {
     "name": "stdout",
     "output_type": "stream",
     "text": [
      "Enter your score70\n",
      "70.0, your grade is A\n"
     ]
    }
   ],
   "source": [
    "# Assigmnet 2: Write a program that will determine the grade of a student, if A>=70, B>=60, C>=50, D>=45, E>=40, F<40.\n",
    "score=float(input(\"Enter your score\"))\n",
    "if score>=70:\n",
    "    print(f\"{score}, your grade is A\")\n",
    "else:\n",
    "    print(f\"{score}, your grade is not A\")"
   ]
  },
  {
   "cell_type": "code",
   "execution_count": 5,
   "id": "a83fba52",
   "metadata": {},
   "outputs": [
    {
     "name": "stdout",
     "output_type": "stream",
     "text": [
      "Enter your score40\n",
      "40.0, your grade is not A\n"
     ]
    }
   ],
   "source": [
    "# Assigmnet 2: Write a program that will determine the grade of a student, if A>=70, B>=60, C>=50, D>=45, E>=40, F<40.\n",
    "score=float(input(\"Enter your score\"))\n",
    "if score>=70:\n",
    "    print(f\"{score}, your grade is A\")\n",
    "else:\n",
    "    print(f\"{score}, your grade is not A\")"
   ]
  },
  {
   "cell_type": "code",
   "execution_count": 7,
   "id": "547a71fa",
   "metadata": {},
   "outputs": [
    {
     "name": "stdout",
     "output_type": "stream",
     "text": [
      "Enter your score: 60\n",
      "60.0, your grade is not A\n",
      "60.0, your grade is B\n"
     ]
    }
   ],
   "source": [
    "# Assigmnet 1: Write a program that will determine the grade of a student, if A>=70, B>=60, C>=50, D>=45, E>=40, F<40.\n",
    "score=float(input(\"Enter your score: \"))\n",
    "if score>=70:\n",
    "    print(f\"{score}, your grade is A\")\n",
    "else:\n",
    "    print(f\"{score}, your grade is not A\")\n",
    "if score>=60:\n",
    "    print(f\"{score}, your grade is B\")\n",
    "else:\n",
    "    print(f\"{score}, your grade is not B\")"
   ]
  },
  {
   "cell_type": "code",
   "execution_count": 8,
   "id": "7ce1ac0f",
   "metadata": {
    "scrolled": true
   },
   "outputs": [
    {
     "name": "stdout",
     "output_type": "stream",
     "text": [
      "Enter your score: 80\n",
      "80.0, your grade is A\n",
      "80.0, your grade is B\n",
      "80.0, your grade is C\n"
     ]
    }
   ],
   "source": [
    "# Assigmnet 2: Write a program that will determine the grade of a student, if A>=70, B>=60, C>=50, D>=45, E>=40, F<40.\n",
    "score=float(input(\"Enter your score: \"))\n",
    "if score>=70:\n",
    "    print(f\"{score}, your grade is A\")\n",
    "else:\n",
    "    print(f\"{score}, your grade is not A\")\n",
    "if score>=60:\n",
    "    print(f\"{score}, your grade is B\")\n",
    "else:\n",
    "    print(f\"{score}, your grade is not B\")\n",
    "if score>=50:\n",
    "    print(f\"{score}, your grade is C\")\n",
    "else:\n",
    "    print(f\"{score}, your grade is not C\")\n",
    "if score>=45:\n",
    "    print(f\"{score}, your grade is D\")\n",
    "else:\n",
    "    print(f\"{score}, your grade is not D\")\n",
    "if score>=40:\n",
    "    print(f\"{score}, your grade is E\")\n",
    "else:\n",
    "    print(f\"{score}, your grade is not E\")\n",
    "if score<40:\n",
    "    print(f\"{score}, your grade is F\")\n",
    "else:\n",
    "    print(f\"{score}, your grade is not F\")\n"
   ]
  },
  {
   "cell_type": "code",
   "execution_count": 10,
   "id": "2a9943fc",
   "metadata": {},
   "outputs": [
    {
     "name": "stdout",
     "output_type": "stream",
     "text": [
      "Enter your score: 20\n",
      "20.0, your grade is not A\n",
      "20.0, your grade is not B\n",
      "20.0, your grade is not C\n",
      "20.0, your grade is not D\n",
      "20.0, your grade is not E\n",
      "20.0, your grade is F\n"
     ]
    }
   ],
   "source": [
    "# Assigmnet 2: Write a program that will determine the grade of a student, if A>=70, B>=60, C>=50, D>=45, E>=40, F<40.\n",
    "score=float(input(\"Enter your score: \"))\n",
    "if score>=70:\n",
    "    print(f\"{score}, your grade is A\")\n",
    "else:\n",
    "    print(f\"{score}, your grade is not A\")\n",
    "if score>=60:\n",
    "    print(f\"{score}, your grade is B\")\n",
    "else:\n",
    "    print(f\"{score}, your grade is not B\")\n",
    "if score>=50:\n",
    "    print(f\"{score}, your grade is C\")\n",
    "else:\n",
    "    print(f\"{score}, your grade is not C\")\n",
    "if score>=45:\n",
    "    print(f\"{score}, your grade is D\")\n",
    "else:\n",
    "    print(f\"{score}, your grade is not D\")\n",
    "if score>=40:\n",
    "    print(f\"{score}, your grade is E\")\n",
    "else:\n",
    "    print(f\"{score}, your grade is not E\")\n",
    "if score<40:\n",
    "    print(f\"{score}, your grade is F\")\n",
    "else:\n",
    "    print(f\"{score}, your grade is not F\")\n"
   ]
  },
  {
   "cell_type": "code",
   "execution_count": 11,
   "id": "8b2c38e8",
   "metadata": {},
   "outputs": [
    {
     "name": "stdout",
     "output_type": "stream",
     "text": [
      "Enter your score: 53\n",
      "53.0, your grade is not A\n",
      "53.0, your grade is not B\n",
      "53.0, your grade is C\n",
      "53.0, your grade is D\n",
      "53.0, your grade is E\n",
      "53.0, your grade is not F\n"
     ]
    }
   ],
   "source": [
    "# Assigmnet 2: Write a program that will determine the grade of a student, if A>=70, B>=60, C>=50, D>=45, E>=40, F<40.\n",
    "score=float(input(\"Enter your score: \"))\n",
    "if score>=70:\n",
    "    print(f\"{score}, your grade is A\")\n",
    "else:\n",
    "    print(f\"{score}, your grade is not A\")\n",
    "if score>=60:\n",
    "    print(f\"{score}, your grade is B\")\n",
    "else:\n",
    "    print(f\"{score}, your grade is not B\")\n",
    "if score>=50:\n",
    "    print(f\"{score}, your grade is C\")\n",
    "else:\n",
    "    print(f\"{score}, your grade is not C\")\n",
    "if score>=45:\n",
    "    print(f\"{score}, your grade is D\")\n",
    "else:\n",
    "    print(f\"{score}, your grade is not D\")\n",
    "if score>=40:\n",
    "    print(f\"{score}, your grade is E\")\n",
    "else:\n",
    "    print(f\"{score}, your grade is not E\")\n",
    "if score<40:\n",
    "    print(f\"{score}, your grade is F\")\n",
    "else:\n",
    "    print(f\"{score}, your grade is not F\")"
   ]
  },
  {
   "cell_type": "code",
   "execution_count": 16,
   "id": "1429b694",
   "metadata": {},
   "outputs": [
    {
     "name": "stdout",
     "output_type": "stream",
     "text": [
      "Enter a number: 11\n",
      "0 is Odd. (num)\n"
     ]
    }
   ],
   "source": [
    "# Assigmnet 3: Write a program that will determine if a number is even or odd. \n",
    "num = int(input(\"Enter a number: \"))\n",
    "if (num % 2) == 0:\n",
    "   print(f\"{0} is Even. (num)\")\n",
    "else:\n",
    "   print(f\"{0} is Odd. (num)\")\n"
   ]
  },
  {
   "cell_type": "code",
   "execution_count": 17,
   "id": "748514c6",
   "metadata": {},
   "outputs": [
    {
     "name": "stdout",
     "output_type": "stream",
     "text": [
      "Enter a number: 4\n",
      "0 is Even. (num)\n"
     ]
    }
   ],
   "source": [
    "# Assigmnet 3: Write a program that will determine if a number is even or odd. \n",
    "num = int(input(\"Enter a number: \"))\n",
    "if (num % 2) == 0:\n",
    "   print(f\"{0} is Even. (num)\")\n",
    "else:\n",
    "   print(f\"{0} is Odd. (num)\")"
   ]
  },
  {
   "cell_type": "code",
   "execution_count": 18,
   "id": "cb317873",
   "metadata": {},
   "outputs": [
    {
     "name": "stdout",
     "output_type": "stream",
     "text": [
      "Enter a number: 99\n",
      "0 is Odd. (num)\n"
     ]
    }
   ],
   "source": [
    "# Assigmnet 3: Write a program that will determine if a number is even or odd. \n",
    "num = int(input(\"Enter a number: \"))\n",
    "if (num % 2) == 0:\n",
    "   print(f\"{0} is Even. (num)\")\n",
    "else:\n",
    "   print(f\"{0} is Odd. (num)\")"
   ]
  },
  {
   "cell_type": "code",
   "execution_count": 19,
   "id": "ee18efd1",
   "metadata": {},
   "outputs": [
    {
     "name": "stdout",
     "output_type": "stream",
     "text": [
      "Enter a number: 200\n",
      "0 is Even. (num)\n"
     ]
    }
   ],
   "source": [
    "# Assigmnet 3: Write a program that will determine if a number is even or odd. \n",
    "num = int(input(\"Enter a number: \"))\n",
    "if (num % 2) == 0:\n",
    "   print(f\"{0} is Even. (num)\")\n",
    "else:\n",
    "   print(f\"{0} is Odd. (num)\")"
   ]
  },
  {
   "cell_type": "code",
   "execution_count": 21,
   "id": "788fee6c",
   "metadata": {},
   "outputs": [
    {
     "name": "stdout",
     "output_type": "stream",
     "text": [
      "Enter a value: 3\n",
      "X is a triangle\n"
     ]
    }
   ],
   "source": [
    "# Assigmnet 4: Write a program that prints the name of a polygon.\n",
    "x = float(input(\"Enter a value: \"))\n",
    "if x==3:\n",
    "    print(f\"X is a triangle\")\n",
    "else:\n",
    "    print(f\"{x}, is not a triangle\")"
   ]
  },
  {
   "cell_type": "code",
   "execution_count": 22,
   "id": "baef33c3",
   "metadata": {},
   "outputs": [
    {
     "name": "stdout",
     "output_type": "stream",
     "text": [
      "Enter a value: 5\n",
      "5.0, is not a triangle\n",
      "5.0, is not a quadrilateral\n",
      "X is a pentagon\n",
      "5.0, is not a hexagon\n",
      "5.0, is not a heptagon\n",
      "5.0, is not a octagon\n",
      "5.0, is not a nonagon\n",
      "5.0, is not a decagon\n"
     ]
    }
   ],
   "source": [
    "# Assigmnet 4: Write a program that prints the name of a polygon.\n",
    "x = float(input(\"Enter a value: \"))\n",
    "if x==3:\n",
    "    print(f\"X is a triangle\")\n",
    "else:\n",
    "    print(f\"{x}, is not a triangle\")\n",
    "if x==4:\n",
    "    print(f\"X is a quadrilateral\")\n",
    "else:\n",
    "    print(f\"{x}, is not a quadrilateral\")\n",
    "if x==5:\n",
    "    print(f\"X is a pentagon\")\n",
    "else:\n",
    "    print(f\"{x}, is not a pentagon\")\n",
    "if x==6:\n",
    "    print(f\"X is a hexagon\")\n",
    "else:\n",
    "    print(f\"{x}, is not a hexagon\")\n",
    "if x==7:\n",
    "    print(f\"X is a heptagon\")\n",
    "else:\n",
    "    print(f\"{x}, is not a heptagon\")\n",
    "if x==8:\n",
    "    print(f\"X is a octagon\")\n",
    "else:\n",
    "    print(f\"{x}, is not a octagon\")\n",
    "if x==9:\n",
    "    print(f\"X is a nonagon\")\n",
    "else:\n",
    "    print(f\"{x}, is not a nonagon\")\n",
    "if x==10:\n",
    "    print(f\"X is a decagon\")\n",
    "else:\n",
    "    print(f\"{x}, is not a decagon\")"
   ]
  },
  {
   "cell_type": "code",
   "execution_count": 23,
   "id": "562dcf5b",
   "metadata": {},
   "outputs": [
    {
     "name": "stdout",
     "output_type": "stream",
     "text": [
      "Enter a value: 10\n",
      "10.0, is not a triangle\n",
      "10.0, is not a quadrilateral\n",
      "10.0, is not a pentagon\n",
      "10.0, is not a hexagon\n",
      "10.0, is not a heptagon\n",
      "10.0, is not a octagon\n",
      "10.0, is not a nonagon\n",
      "X is a decagon\n"
     ]
    }
   ],
   "source": [
    "# Assigmnet 4: Write a program that prints the name of a polygon.\n",
    "x = float(input(\"Enter a value: \"))\n",
    "if x==3:\n",
    "    print(f\"X is a triangle\")\n",
    "else:\n",
    "    print(f\"{x}, is not a triangle\")\n",
    "if x==4:\n",
    "    print(f\"X is a quadrilateral\")\n",
    "else:\n",
    "    print(f\"{x}, is not a quadrilateral\")\n",
    "if x==5:\n",
    "    print(f\"X is a pentagon\")\n",
    "else:\n",
    "    print(f\"{x}, is not a pentagon\")\n",
    "if x==6:\n",
    "    print(f\"X is a hexagon\")\n",
    "else:\n",
    "    print(f\"{x}, is not a hexagon\")\n",
    "if x==7:\n",
    "    print(f\"X is a heptagon\")\n",
    "else:\n",
    "    print(f\"{x}, is not a heptagon\")\n",
    "if x==8:\n",
    "    print(f\"X is a octagon\")\n",
    "else:\n",
    "    print(f\"{x}, is not a octagon\")\n",
    "if x==9:\n",
    "    print(f\"X is a nonagon\")\n",
    "else:\n",
    "    print(f\"{x}, is not a nonagon\")\n",
    "if x==10:\n",
    "    print(f\"X is a decagon\")\n",
    "else:\n",
    "    print(f\"{x}, is not a decagon\")"
   ]
  },
  {
   "cell_type": "code",
   "execution_count": null,
   "id": "02348763",
   "metadata": {},
   "outputs": [],
   "source": []
  }
 ],
 "metadata": {
  "kernelspec": {
   "display_name": "Python 3 (ipykernel)",
   "language": "python",
   "name": "python3"
  },
  "language_info": {
   "codemirror_mode": {
    "name": "ipython",
    "version": 3
   },
   "file_extension": ".py",
   "mimetype": "text/x-python",
   "name": "python",
   "nbconvert_exporter": "python",
   "pygments_lexer": "ipython3",
   "version": "3.11.4"
  }
 },
 "nbformat": 4,
 "nbformat_minor": 5
}
